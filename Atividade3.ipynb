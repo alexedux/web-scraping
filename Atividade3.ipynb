{
 "cells": [
  {
   "cell_type": "code",
   "execution_count": null,
   "id": "7bf0a7f0-623d-43fa-bc10-988e841b4f7f",
   "metadata": {},
   "outputs": [],
   "source": [
    "import requests\n",
    "from bs4 import BeautifulSoup\n",
    "import pandas as pd\n",
    "from lxml import etree"
   ]
  },
  {
   "cell_type": "code",
   "execution_count": null,
   "id": "1629ed4f-ef02-4c8e-9d8a-aaa3467d5b98",
   "metadata": {},
   "outputs": [],
   "source": [
    "#download da tirinha\n",
    "def download(tirinha):   \n",
    "    with open('Atividade3/Tirinha-{}.png'.format(i), 'wb') as imagem:\n",
    "        resposta = requests.get(tirinha)\n",
    "        for img in resposta.iter_content(1024):\n",
    "            imagem.write(img)"
   ]
  },
  {
   "cell_type": "code",
   "execution_count": null,
   "id": "62e7d0d5-1b33-4156-9fc8-b3202c8c3eb5",
   "metadata": {},
   "outputs": [],
   "source": [
    "#Pegar pagina inicial\n",
    "def inicial ():\n",
    "    urlInicial ='https://xkcd.com/#'\n",
    "    site = requests.get(urlInicial)\n",
    "    soup = BeautifulSoup(site.content, 'html.parser')\n",
    "    convert = etree.HTML(bytes(str(soup) , encoding='utf-8'))\n",
    "    pagInicial = convert.xpath('//*[@id=\"middleContainer\"]/a[1]')[0].text\n",
    "    numeroPag = pagInicial[17:21]\n",
    "    return numeroPag"
   ]
  },
  {
   "cell_type": "code",
   "execution_count": null,
   "id": "b400cd62-e2fc-4b8b-830b-b41f2a118d63",
   "metadata": {},
   "outputs": [],
   "source": [
    "#percorrer paginas\n",
    "pag = inicial()\n",
    "for i in range(int(pag), 1, -1):\n",
    "    url = 'https://xkcd.com/{}'.format(i)\n",
    "    site = requests.get(url)\n",
    "    soup = BeautifulSoup(site.content, 'html.parser')\n",
    "    convert = etree.HTML(bytes(str(soup) , encoding='utf-8'))\n",
    "    tirinha = convert.xpath('//*[@id=\"middleContainer\"]/a[2]')[0].text\n",
    "    download(tirinha)"
   ]
  },
  {
   "cell_type": "code",
   "execution_count": null,
   "id": "52502bfe-d9de-44e7-a111-6761dc8f8d6d",
   "metadata": {},
   "outputs": [],
   "source": []
  }
 ],
 "metadata": {
  "kernelspec": {
   "display_name": "Python 3 (ipykernel)",
   "language": "python",
   "name": "python3"
  },
  "language_info": {
   "codemirror_mode": {
    "name": "ipython",
    "version": 3
   },
   "file_extension": ".py",
   "mimetype": "text/x-python",
   "name": "python",
   "nbconvert_exporter": "python",
   "pygments_lexer": "ipython3",
   "version": "3.9.12"
  }
 },
 "nbformat": 4,
 "nbformat_minor": 5
}
