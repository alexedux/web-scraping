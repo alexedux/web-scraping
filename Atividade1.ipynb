{
 "cells": [
  {
   "cell_type": "code",
   "execution_count": null,
   "id": "b481eccc-4061-4a85-9357-76a444609d73",
   "metadata": {},
   "outputs": [],
   "source": [
    "import requests\n",
    "from bs4 import BeautifulSoup\n",
    "import pandas as pd\n",
    "from lxml import etree"
   ]
  },
  {
   "cell_type": "code",
   "execution_count": null,
   "id": "87e8205d-c661-4b00-b6ac-e0f1f9cca384",
   "metadata": {},
   "outputs": [],
   "source": [
    "#pegar todas as informaçõe necessarias da pagina\n",
    "def cursos (url, todoscursos):\n",
    "    curso = {}\n",
    "    site = requests.get(url)\n",
    "    soup = BeautifulSoup(site.content, 'html.parser')\n",
    "    curso['CURSO'] = soup.find('span', id= 'form:nomeProg').get_text().strip()\n",
    "    curso['CODIGO'] = soup.find('span', id='form:codProg').get_text().strip()\n",
    "    curso['areaBASICA'] = soup.find('span', id='form:codNomeAreaProg').get_text().strip()\n",
    "    curso['areaAVALIAÇÃO'] = soup.find('span', id='form:areaAvProg').get_text().strip()\n",
    "    curso['SITUAÇÃO'] = soup.find('span', id='form:situacaoPrograma').get_text().strip()\n",
    "    curso['CIDADE'] = soup.find('span', id='form:j_idt53:0:cidade').get_text().strip()\n",
    "    mestrado = soup.find('span', id='form:j_idt86:0:grauCurso')\n",
    "    if mestrado != None :\n",
    "        curso['MESTRADO'] = 'Mestrado'\n",
    "        curso['situacaoMESTRADO'] = soup.find('span', id='form:j_idt86:0:sitCurso').get_text().strip()\n",
    "        curso['codigoMESTRADO'] = soup.find('span', id='form:j_idt86:0:codCurso').get_text().strip()\n",
    "        n = etree.HTML(bytes(str(soup) , encoding='utf-8'))\n",
    "        curso['notaCURSO'] = n.xpath('//*[@id=\"form\"]/div[3]/div/div/div/fieldset/div[3]/div[2]')[0].text.strip()\n",
    "    doutorado = soup.find('span', id = 'form:j_idt86:1:grauCurso')\n",
    "    if doutorado != None :\n",
    "        curso['DOUTORADO'] = 'Doutorado'\n",
    "        curso['situacaoDOUTORADO'] = soup.find('span', id='form:j_idt86:1:sitCurso').get_text().strip()\n",
    "        curso['codDOUTORADO'] = soup.find('span', id='form:j_idt86:1:codCurso').get_text().strip()\n",
    "    curso['CEP'] = soup.find('span', id='form:j_idt53:0:cep').get_text().strip()\n",
    "    curso['INICIO'] = soup.find('span', id='form:j_idt53:0:dataInclusao').get_text().strip()\n",
    "    curso['UNIVERSIDADE'] = soup.find('span', id='form:j_idt53:0:iesNome').get_text().strip()\n",
    "              \n",
    "    todoscursos.append(curso)\n",
    "    return todoscursos      \n",
    "              "
   ]
  },
  {
   "cell_type": "code",
   "execution_count": null,
   "id": "478814e4-9cb3-4c66-830e-95be635da3fd",
   "metadata": {},
   "outputs": [],
   "source": [
    "#percorrer paginas e adicionar em uma tabela\n",
    "todoscursos = []\n",
    "for i in range(1,501):\n",
    "        url = 'https://sucupira.capes.gov.br/sucupira/public/consultas/coleta/programa/viewPrograma.jsf?popup=true&id_programa={}'.format(i)\n",
    "        todoscursos = cursos(url, todoscursos)        \n",
    "        i += 1\n",
    "\n",
    "dataset = pd.DataFrame(todoscursos) \n",
    "dataset = dataset.fillna('Null')\n",
    "dataset = dataset.replace('', 'Null')\n",
    "dataset"
   ]
  },
  {
   "cell_type": "code",
   "execution_count": null,
   "id": "e537f846-f60b-411f-8e9e-6448a453cb44",
   "metadata": {},
   "outputs": [],
   "source": [
    "\n"
   ]
  },
  {
   "cell_type": "code",
   "execution_count": null,
   "id": "b300d082-b751-4229-bd20-86c44501d90e",
   "metadata": {},
   "outputs": [],
   "source": []
  },
  {
   "cell_type": "code",
   "execution_count": null,
   "id": "cc2481e1-5b9a-4ea7-8a16-884bf5a6bbf0",
   "metadata": {},
   "outputs": [],
   "source": []
  },
  {
   "cell_type": "code",
   "execution_count": null,
   "id": "f38bbe0b-48ea-4821-ad19-c5526742a1db",
   "metadata": {},
   "outputs": [],
   "source": []
  },
  {
   "cell_type": "code",
   "execution_count": null,
   "id": "1cfd6b07-b6e6-4b9d-8eb5-d7155bd22507",
   "metadata": {},
   "outputs": [],
   "source": []
  },
  {
   "cell_type": "code",
   "execution_count": null,
   "id": "f9500501-d5ac-4b7e-ba8e-4d701abe74f8",
   "metadata": {},
   "outputs": [],
   "source": []
  },
  {
   "cell_type": "code",
   "execution_count": null,
   "id": "d0a64977-09df-49bd-9f53-378da0ddc1dd",
   "metadata": {},
   "outputs": [],
   "source": []
  },
  {
   "cell_type": "code",
   "execution_count": null,
   "id": "2120e0dd-0559-4de9-a4a6-7890b374b8f0",
   "metadata": {},
   "outputs": [],
   "source": []
  },
  {
   "cell_type": "code",
   "execution_count": null,
   "id": "7cc91a00-623a-40ca-9b79-dcb0814273d1",
   "metadata": {},
   "outputs": [],
   "source": []
  },
  {
   "cell_type": "code",
   "execution_count": null,
   "id": "af381125-04d1-4db7-bad0-67d7ddd74594",
   "metadata": {},
   "outputs": [],
   "source": []
  },
  {
   "cell_type": "code",
   "execution_count": null,
   "id": "d3bb1826-3336-47a8-9328-9fcdcef17ff7",
   "metadata": {},
   "outputs": [],
   "source": []
  },
  {
   "cell_type": "code",
   "execution_count": null,
   "id": "cb701da7-db36-43c6-80d3-b3e0fea68365",
   "metadata": {},
   "outputs": [],
   "source": [
    "\n"
   ]
  },
  {
   "cell_type": "code",
   "execution_count": null,
   "id": "d5b4c5f0-8be6-4a3d-8755-37769f3c43a7",
   "metadata": {},
   "outputs": [],
   "source": []
  },
  {
   "cell_type": "code",
   "execution_count": null,
   "id": "70cfb0c0-5663-4683-bb13-5e989b84ee03",
   "metadata": {},
   "outputs": [],
   "source": []
  }
 ],
 "metadata": {
  "kernelspec": {
   "display_name": "Python 3 (ipykernel)",
   "language": "python",
   "name": "python3"
  },
  "language_info": {
   "codemirror_mode": {
    "name": "ipython",
    "version": 3
   },
   "file_extension": ".py",
   "mimetype": "text/x-python",
   "name": "python",
   "nbconvert_exporter": "python",
   "pygments_lexer": "ipython3",
   "version": "3.9.12"
  }
 },
 "nbformat": 4,
 "nbformat_minor": 5
}
